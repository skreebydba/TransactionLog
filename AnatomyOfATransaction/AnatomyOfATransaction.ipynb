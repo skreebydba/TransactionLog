{
    "metadata": {
        "kernelspec": {
            "name": "SQL",
            "display_name": "SQL",
            "language": "sql"
        },
        "language_info": {
            "name": "sql",
            "version": ""
        }
    },
    "nbformat_minor": 2,
    "nbformat": 4,
    "cells": [
        {
            "cell_type": "markdown",
            "source": [
                "# Anatomy of a Transaction\r\n",
                "This notebook contains scripts to create a database and table, insert data to the table, and return records from the transaction log showing the activity for each step.\r\n",
                "\r\n",
                "The script uses function ```fn_dblog``` to return transaction log records.\r\n",
                "```fn_dblog``` is a table-valued function that takes two parameters, begin and end LSN.  If NULL is passed for both parameters all active rows in the log will be returned.\r\n",
                "The following statement will return all active records from the transaction log for the master database.  The result set contains 127 columns.\r\n",
                ""
            ],
            "metadata": {
                "azdata_cell_guid": "28122372-f79a-47f2-82d4-4823bfb36929"
            }
        },
        {
            "cell_type": "code",
            "source": [
                "USE master;\r\n",
                "\r\n",
                "SELECT * FROM fn_dblog(NULL,NULL);"
            ],
            "metadata": {
                "azdata_cell_guid": "e2ebc667-08d4-4106-b232-9b5bfd67358e"
            },
            "outputs": [],
            "execution_count": null
        },
        {
            "cell_type": "markdown",
            "source": [
                "Because ```fn_dblog``` is a table-valued function, you can use a column list and WHERE predicate.  The following query will return all active rows from the master database transaction log, but a subset of columns."
            ],
            "metadata": {
                "azdata_cell_guid": "3f47e400-55c5-440d-96ba-7399751c904a"
            }
        },
        {
            "cell_type": "code",
            "source": [
                "USE master;\r\n",
                "\r\n",
                "SELECT [Current LSN]\r\n",
                ",[Transaction ID]\r\n",
                ",[Transaction Name]\r\n",
                ",Operation\r\n",
                ",Context\r\n",
                ",[Description]\r\n",
                ",[Previous LSN]\r\n",
                ",AllocUnitName\r\n",
                ",[Page ID]\r\n",
                ",[Slot ID]\r\n",
                ",[Begin Time]\r\n",
                ",[Database Name]\r\n",
                ",[Number of Locks]\r\n",
                ",[Lock Information]\r\n",
                ",[New Split Page]\r\n",
                "FROM fn_dblog(NULL,NULL);"
            ],
            "metadata": {
                "azdata_cell_guid": "8bebdd5a-7d4a-4ebd-9345-50fb7b246858"
            },
            "outputs": [],
            "execution_count": null
        },
        {
            "cell_type": "markdown",
            "source": [
                "THe Transaction Name column is only populated at the beginning of a transaction.  If the transaction is explicitly named, that name will appear here.  If the transaction is not named, SQL Server will give it a name."
            ],
            "metadata": {
                "azdata_cell_guid": "4ac5d705-7fb3-4871-a753-0832488528f4"
            }
        },
        {
            "cell_type": "code",
            "source": [
                "SELECT [Current LSN]\r\n",
                ",[Transaction ID]\r\n",
                ",[Transaction Name]\r\n",
                ",Operation\r\n",
                ",Context\r\n",
                ",[Description]\r\n",
                ",[Previous LSN]\r\n",
                ",AllocUnitName\r\n",
                ",[Page ID]\r\n",
                ",[Slot ID]\r\n",
                ",[Begin Time]\r\n",
                ",[Database Name]\r\n",
                ",[Number of Locks]\r\n",
                ",[Lock Information]\r\n",
                ",[New Split Page]\r\n",
                "FROM fn_dblog(NULL,NULL)\r\n",
                "WHERE [Transaction Name] IS NOT NULL;"
            ],
            "metadata": {
                "azdata_cell_guid": "90a29a51-5659-4025-916d-5c8fa2f6a10a"
            },
            "outputs": [],
            "execution_count": null
        },
        {
            "cell_type": "markdown",
            "source": [
                "The Operation column contains the action SQL Server is taking in this log record."
            ],
            "metadata": {
                "azdata_cell_guid": "15164bfe-bae6-409e-b9ed-e25791805d12"
            }
        },
        {
            "cell_type": "code",
            "source": [
                "SELECT DISTINCT Operation\r\n",
                "FROM fn_dblog(NULL,NULL)\r\n",
                "ORDER BY Operation;"
            ],
            "metadata": {
                "azdata_cell_guid": "58b7f278-8b66-43f6-b823-37c7ca67b79a"
            },
            "outputs": [],
            "execution_count": null
        },
        {
            "cell_type": "markdown",
            "source": [
                "The Context column contains the object type being operated on."
            ],
            "metadata": {
                "azdata_cell_guid": "7d8ed6ab-9d43-44e5-82a7-1a8d75347eb8"
            }
        },
        {
            "cell_type": "code",
            "source": [
                "SELECT DISTINCT Context\r\n",
                "FROM fn_dblog(NULL,NULL)\r\n",
                "ORDER BY Context;"
            ],
            "metadata": {
                "azdata_cell_guid": "0548d705-9f3f-4b80-a8ff-7ef651c9c314"
            },
            "outputs": [],
            "execution_count": null
        },
        {
            "cell_type": "markdown",
            "source": [
                "The Description column describes the action taken by the log record.  Be warned, it is not always terribly descriptive."
            ],
            "metadata": {
                "azdata_cell_guid": "0032e773-2660-4d6b-9591-9b665cb01f3b"
            }
        },
        {
            "cell_type": "code",
            "source": [
                "SELECT [Current LSN]\r\n",
                ",[Transaction ID]\r\n",
                ",[Transaction Name]\r\n",
                ",Operation\r\n",
                ",Context\r\n",
                ",[Description]\r\n",
                ",[Previous LSN]\r\n",
                ",AllocUnitName\r\n",
                ",[Page ID]\r\n",
                ",[Slot ID]\r\n",
                ",[Begin Time]\r\n",
                ",[Database Name]\r\n",
                ",[Number of Locks]\r\n",
                ",[Lock Information]\r\n",
                ",[New Split Page]\r\n",
                "FROM fn_dblog(NULL,NULL);"
            ],
            "metadata": {
                "azdata_cell_guid": "9ffc6b14-3c0f-4e39-ab8c-714898bb48f9"
            },
            "outputs": [],
            "execution_count": null
        },
        {
            "cell_type": "markdown",
            "source": [
                "Each log record contains an identifier called the log sequence number (LSN).  Because SQL Server is not a single-threaded process, log records from different transactions will be interleaved in the log file.  SQL Server uses the previous_lsn_number to maintain order."
            ],
            "metadata": {
                "azdata_cell_guid": "1b35e5b1-9e7b-4a4c-a17f-3a760652467e"
            }
        },
        {
            "cell_type": "code",
            "source": [
                "SELECT [Transaction ID]\r\n",
                ",Operation\r\n",
                ",[Current LSN]\r\n",
                ",[Previous LSN]\r\n",
                "FROM fn_dblog(NULL,NULL)\r\n",
                "WHERE [Transaction ID] <> '0000:00000000';"
            ],
            "metadata": {
                "azdata_cell_guid": "d89d8985-eea9-4089-bd1a-eb3b14e82580"
            },
            "outputs": [],
            "execution_count": null
        },
        {
            "cell_type": "markdown",
            "source": [
                ""
            ],
            "metadata": {
                "azdata_cell_guid": "c2504809-c0dd-4b2e-bab9-161f68719d97"
            }
        },
        {
            "cell_type": "code",
            "source": [
                "SELECT [Current LSN]\n",
                ",[Transaction ID]\n",
                ",[Transaction Name]\n",
                ",Operation\n",
                ",Context\n",
                ",[Description]\n",
                ",[Previous LSN]\n",
                ",AllocUnitName\n",
                ",[Page ID]\n",
                ",[Slot ID]\n",
                ",[Begin Time]\n",
                ",[Database Name]\n",
                ",[Number of Locks]\n",
                ",[Lock Information]\n",
                ",[New Split Page]\n",
                "FROM fn_dblog(NULL,NULL)\n",
                "WHERE AllocUnitName = 'dbo.CommandLog.PK_CommandLog';"
            ],
            "metadata": {
                "azdata_cell_guid": "2f12c9ef-fd44-40d1-b022-fbe4dc7b6d99"
            },
            "outputs": [],
            "execution_count": null
        },
        {
            "cell_type": "markdown",
            "source": [
                "Finally, each log record contains the following columns:\r\n",
                "* AllocUnitName - the object being affected\r\n",
                "* Page ID - the ID of the data page being affected\r\n",
                "* Slot ID - the ID of the slot containing the row being affected (NOTE - Slot ID is 0 based, so the first row on the page will be in slot 0)\r\n",
                "* Number of Locks - The number of locks being held by this log record\r\n",
                "* Lock Information - Contains information about the locks being held (Generally in format OBJECT:PAGE:ROW)"
            ],
            "metadata": {
                "azdata_cell_guid": "caddd700-6494-4d98-a75a-8648b13ba22f"
            }
        },
        {
            "cell_type": "code",
            "source": [
                "SELECT [Current LSN]\r\n",
                ",[Transaction ID]\r\n",
                ",[Transaction Name]\r\n",
                ",Operation\r\n",
                ",Context\r\n",
                ",[Description]\r\n",
                ",[Previous LSN]\r\n",
                ",AllocUnitName\r\n",
                ",[Page ID]\r\n",
                ",[Slot ID]\r\n",
                ",[Begin Time]\r\n",
                ",[Database Name]\r\n",
                ",[Number of Locks]\r\n",
                ",[Lock Information]\r\n",
                ",[New Split Page]\r\n",
                "FROM fn_dblog(NULL,NULL)\r\n",
                "WHERE AllocUnitName = 'dbo.CommandLog.PK_CommandLog';"
            ],
            "metadata": {
                "azdata_cell_guid": "5cc57afa-49e9-4ec5-9fad-eb1d90463857"
            },
            "outputs": [
                {
                    "output_type": "display_data",
                    "data": {
                        "text/html": "(11 rows affected)"
                    },
                    "metadata": {}
                },
                {
                    "output_type": "display_data",
                    "data": {
                        "text/html": "Total execution time: 00:00:00.031"
                    },
                    "metadata": {}
                },
                {
                    "output_type": "execute_result",
                    "metadata": {},
                    "execution_count": 3,
                    "data": {
                        "application/vnd.dataresource+json": {
                            "schema": {
                                "fields": [
                                    {
                                        "name": "Current LSN"
                                    },
                                    {
                                        "name": "Transaction ID"
                                    },
                                    {
                                        "name": "Transaction Name"
                                    },
                                    {
                                        "name": "Operation"
                                    },
                                    {
                                        "name": "Context"
                                    },
                                    {
                                        "name": "Description"
                                    },
                                    {
                                        "name": "Previous LSN"
                                    },
                                    {
                                        "name": "AllocUnitName"
                                    },
                                    {
                                        "name": "Page ID"
                                    },
                                    {
                                        "name": "Slot ID"
                                    },
                                    {
                                        "name": "Begin Time"
                                    },
                                    {
                                        "name": "Database Name"
                                    },
                                    {
                                        "name": "Number of Locks"
                                    },
                                    {
                                        "name": "Lock Information"
                                    },
                                    {
                                        "name": "New Split Page"
                                    }
                                ]
                            },
                            "data": [
                                {
                                    "0": "000000e7:00000038:0003",
                                    "1": "0000:00002b09",
                                    "2": "NULL",
                                    "3": "LOP_MODIFY_COLUMNS",
                                    "4": "LCX_CLUSTERED",
                                    "5": "",
                                    "6": "000000e7:00000038:0001",
                                    "7": "dbo.CommandLog.PK_CommandLog",
                                    "8": "0001:0000020e",
                                    "9": "0",
                                    "10": "NULL",
                                    "11": "NULL",
                                    "12": "3",
                                    "13": "HoBt 72057594043498496:ACQUIRE_LOCK_IX OBJECT: 1:279672044:0 ;ACQUIRE_LOCK_IX PAGE: 1:1:526 ;ACQUIRE_LOCK_X KEY: 1:72057594043498496 (8194443284a0)",
                                    "14": "NULL"
                                },
                                {
                                    "0": "000000e7:00000040:0004",
                                    "1": "0000:00002b0a",
                                    "2": "NULL",
                                    "3": "LOP_INSERT_ROWS",
                                    "4": "LCX_CLUSTERED",
                                    "5": "",
                                    "6": "000000e7:00000040:0003",
                                    "7": "dbo.CommandLog.PK_CommandLog",
                                    "8": "0001:0000020e",
                                    "9": "1",
                                    "10": "NULL",
                                    "11": "NULL",
                                    "12": "3",
                                    "13": "HoBt 72057594043498496:ACQUIRE_LOCK_IX OBJECT: 1:279672044:0 ;ACQUIRE_LOCK_IX PAGE: 1:1:526 ;ACQUIRE_LOCK_X KEY: 1:72057594043498496 (61a06abd401c)",
                                    "14": "NULL"
                                },
                                {
                                    "0": "000000e7:00000048:0002",
                                    "1": "0000:00002b0b",
                                    "2": "NULL",
                                    "3": "LOP_MODIFY_COLUMNS",
                                    "4": "LCX_CLUSTERED",
                                    "5": "",
                                    "6": "000000e7:00000048:0001",
                                    "7": "dbo.CommandLog.PK_CommandLog",
                                    "8": "0001:0000020e",
                                    "9": "1",
                                    "10": "NULL",
                                    "11": "NULL",
                                    "12": "3",
                                    "13": "HoBt 72057594043498496:ACQUIRE_LOCK_IX OBJECT: 1:279672044:0 ;ACQUIRE_LOCK_IX PAGE: 1:1:526 ;ACQUIRE_LOCK_X KEY: 1:72057594043498496 (61a06abd401c)",
                                    "14": "NULL"
                                },
                                {
                                    "0": "000000e7:00000050:0002",
                                    "1": "0000:00002b0c",
                                    "2": "NULL",
                                    "3": "LOP_INSERT_ROWS",
                                    "4": "LCX_CLUSTERED",
                                    "5": "",
                                    "6": "000000e7:00000050:0001",
                                    "7": "dbo.CommandLog.PK_CommandLog",
                                    "8": "0001:0000020e",
                                    "9": "2",
                                    "10": "NULL",
                                    "11": "NULL",
                                    "12": "3",
                                    "13": "HoBt 72057594043498496:ACQUIRE_LOCK_IX OBJECT: 1:279672044:0 ;ACQUIRE_LOCK_IX PAGE: 1:1:526 ;ACQUIRE_LOCK_X KEY: 1:72057594043498496 (98ec012aa510)",
                                    "14": "NULL"
                                },
                                {
                                    "0": "000000e7:00000068:0003",
                                    "1": "0000:00002b0f",
                                    "2": "NULL",
                                    "3": "LOP_MODIFY_COLUMNS",
                                    "4": "LCX_CLUSTERED",
                                    "5": "",
                                    "6": "000000e7:00000068:0002",
                                    "7": "dbo.CommandLog.PK_CommandLog",
                                    "8": "0001:0000020e",
                                    "9": "2",
                                    "10": "NULL",
                                    "11": "NULL",
                                    "12": "3",
                                    "13": "HoBt 72057594043498496:ACQUIRE_LOCK_IX OBJECT: 1:279672044:0 ;ACQUIRE_LOCK_IX PAGE: 1:1:526 ;ACQUIRE_LOCK_X KEY: 1:72057594043498496 (98ec012aa510)",
                                    "14": "NULL"
                                },
                                {
                                    "0": "000000e7:00000070:0002",
                                    "1": "0000:00002b10",
                                    "2": "NULL",
                                    "3": "LOP_INSERT_ROWS",
                                    "4": "LCX_CLUSTERED",
                                    "5": "",
                                    "6": "000000e7:00000070:0001",
                                    "7": "dbo.CommandLog.PK_CommandLog",
                                    "8": "0001:0000020e",
                                    "9": "3",
                                    "10": "NULL",
                                    "11": "NULL",
                                    "12": "3",
                                    "13": "HoBt 72057594043498496:ACQUIRE_LOCK_IX OBJECT: 1:279672044:0 ;ACQUIRE_LOCK_IX PAGE: 1:1:526 ;ACQUIRE_LOCK_X KEY: 1:72057594043498496 (a0c936a3c965)",
                                    "14": "NULL"
                                },
                                {
                                    "0": "000000e7:00000078:0002",
                                    "1": "0000:00002b11",
                                    "2": "NULL",
                                    "3": "LOP_MODIFY_COLUMNS",
                                    "4": "LCX_CLUSTERED",
                                    "5": "",
                                    "6": "000000e7:00000078:0001",
                                    "7": "dbo.CommandLog.PK_CommandLog",
                                    "8": "0001:0000020e",
                                    "9": "3",
                                    "10": "NULL",
                                    "11": "NULL",
                                    "12": "3",
                                    "13": "HoBt 72057594043498496:ACQUIRE_LOCK_IX OBJECT: 1:279672044:0 ;ACQUIRE_LOCK_IX PAGE: 1:1:526 ;ACQUIRE_LOCK_X KEY: 1:72057594043498496 (a0c936a3c965)",
                                    "14": "NULL"
                                },
                                {
                                    "0": "000000e7:00000080:0002",
                                    "1": "0000:00002b12",
                                    "2": "NULL",
                                    "3": "LOP_INSERT_ROWS",
                                    "4": "LCX_CLUSTERED",
                                    "5": "",
                                    "6": "000000e7:00000080:0001",
                                    "7": "dbo.CommandLog.PK_CommandLog",
                                    "8": "0001:0000020e",
                                    "9": "4",
                                    "10": "NULL",
                                    "11": "NULL",
                                    "12": "3",
                                    "13": "HoBt 72057594043498496:ACQUIRE_LOCK_IX OBJECT: 1:279672044:0 ;ACQUIRE_LOCK_IX PAGE: 1:1:526 ;ACQUIRE_LOCK_X KEY: 1:72057594043498496 (59855d342c69)",
                                    "14": "NULL"
                                },
                                {
                                    "0": "000000e7:00000098:0003",
                                    "1": "0000:00002b15",
                                    "2": "NULL",
                                    "3": "LOP_MODIFY_COLUMNS",
                                    "4": "LCX_CLUSTERED",
                                    "5": "",
                                    "6": "000000e7:00000098:0002",
                                    "7": "dbo.CommandLog.PK_CommandLog",
                                    "8": "0001:0000020e",
                                    "9": "4",
                                    "10": "NULL",
                                    "11": "NULL",
                                    "12": "3",
                                    "13": "HoBt 72057594043498496:ACQUIRE_LOCK_IX OBJECT: 1:279672044:0 ;ACQUIRE_LOCK_IX PAGE: 1:1:526 ;ACQUIRE_LOCK_X KEY: 1:72057594043498496 (59855d342c69)",
                                    "14": "NULL"
                                },
                                {
                                    "0": "000000e7:000000a0:0002",
                                    "1": "0000:00002b16",
                                    "2": "NULL",
                                    "3": "LOP_INSERT_ROWS",
                                    "4": "LCX_CLUSTERED",
                                    "5": "",
                                    "6": "000000e7:000000a0:0001",
                                    "7": "dbo.CommandLog.PK_CommandLog",
                                    "8": "0001:0000020e",
                                    "9": "5",
                                    "10": "NULL",
                                    "11": "NULL",
                                    "12": "3",
                                    "13": "HoBt 72057594043498496:ACQUIRE_LOCK_IX OBJECT: 1:279672044:0 ;ACQUIRE_LOCK_IX PAGE: 1:1:526 ;ACQUIRE_LOCK_X KEY: 1:72057594043498496 (b9b173bbe8d5)",
                                    "14": "NULL"
                                },
                                {
                                    "0": "000000e7:000000a8:0002",
                                    "1": "0000:00002b17",
                                    "2": "NULL",
                                    "3": "LOP_MODIFY_COLUMNS",
                                    "4": "LCX_CLUSTERED",
                                    "5": "",
                                    "6": "000000e7:000000a8:0001",
                                    "7": "dbo.CommandLog.PK_CommandLog",
                                    "8": "0001:0000020e",
                                    "9": "5",
                                    "10": "NULL",
                                    "11": "NULL",
                                    "12": "3",
                                    "13": "HoBt 72057594043498496:ACQUIRE_LOCK_IX OBJECT: 1:279672044:0 ;ACQUIRE_LOCK_IX PAGE: 1:1:526 ;ACQUIRE_LOCK_X KEY: 1:72057594043498496 (b9b173bbe8d5)",
                                    "14": "NULL"
                                }
                            ]
                        },
                        "text/html": [
                            "<table>",
                            "<tr><th>Current LSN</th><th>Transaction ID</th><th>Transaction Name</th><th>Operation</th><th>Context</th><th>Description</th><th>Previous LSN</th><th>AllocUnitName</th><th>Page ID</th><th>Slot ID</th><th>Begin Time</th><th>Database Name</th><th>Number of Locks</th><th>Lock Information</th><th>New Split Page</th></tr>",
                            "<tr><td>000000e7:00000038:0003</td><td>0000:00002b09</td><td>NULL</td><td>LOP_MODIFY_COLUMNS</td><td>LCX_CLUSTERED</td><td></td><td>000000e7:00000038:0001</td><td>dbo.CommandLog.PK_CommandLog</td><td>0001:0000020e</td><td>0</td><td>NULL</td><td>NULL</td><td>3</td><td>HoBt 72057594043498496:ACQUIRE_LOCK_IX OBJECT: 1:279672044:0 ;ACQUIRE_LOCK_IX PAGE: 1:1:526 ;ACQUIRE_LOCK_X KEY: 1:72057594043498496 (8194443284a0)</td><td>NULL</td></tr>",
                            "<tr><td>000000e7:00000040:0004</td><td>0000:00002b0a</td><td>NULL</td><td>LOP_INSERT_ROWS</td><td>LCX_CLUSTERED</td><td></td><td>000000e7:00000040:0003</td><td>dbo.CommandLog.PK_CommandLog</td><td>0001:0000020e</td><td>1</td><td>NULL</td><td>NULL</td><td>3</td><td>HoBt 72057594043498496:ACQUIRE_LOCK_IX OBJECT: 1:279672044:0 ;ACQUIRE_LOCK_IX PAGE: 1:1:526 ;ACQUIRE_LOCK_X KEY: 1:72057594043498496 (61a06abd401c)</td><td>NULL</td></tr>",
                            "<tr><td>000000e7:00000048:0002</td><td>0000:00002b0b</td><td>NULL</td><td>LOP_MODIFY_COLUMNS</td><td>LCX_CLUSTERED</td><td></td><td>000000e7:00000048:0001</td><td>dbo.CommandLog.PK_CommandLog</td><td>0001:0000020e</td><td>1</td><td>NULL</td><td>NULL</td><td>3</td><td>HoBt 72057594043498496:ACQUIRE_LOCK_IX OBJECT: 1:279672044:0 ;ACQUIRE_LOCK_IX PAGE: 1:1:526 ;ACQUIRE_LOCK_X KEY: 1:72057594043498496 (61a06abd401c)</td><td>NULL</td></tr>",
                            "<tr><td>000000e7:00000050:0002</td><td>0000:00002b0c</td><td>NULL</td><td>LOP_INSERT_ROWS</td><td>LCX_CLUSTERED</td><td></td><td>000000e7:00000050:0001</td><td>dbo.CommandLog.PK_CommandLog</td><td>0001:0000020e</td><td>2</td><td>NULL</td><td>NULL</td><td>3</td><td>HoBt 72057594043498496:ACQUIRE_LOCK_IX OBJECT: 1:279672044:0 ;ACQUIRE_LOCK_IX PAGE: 1:1:526 ;ACQUIRE_LOCK_X KEY: 1:72057594043498496 (98ec012aa510)</td><td>NULL</td></tr>",
                            "<tr><td>000000e7:00000068:0003</td><td>0000:00002b0f</td><td>NULL</td><td>LOP_MODIFY_COLUMNS</td><td>LCX_CLUSTERED</td><td></td><td>000000e7:00000068:0002</td><td>dbo.CommandLog.PK_CommandLog</td><td>0001:0000020e</td><td>2</td><td>NULL</td><td>NULL</td><td>3</td><td>HoBt 72057594043498496:ACQUIRE_LOCK_IX OBJECT: 1:279672044:0 ;ACQUIRE_LOCK_IX PAGE: 1:1:526 ;ACQUIRE_LOCK_X KEY: 1:72057594043498496 (98ec012aa510)</td><td>NULL</td></tr>",
                            "<tr><td>000000e7:00000070:0002</td><td>0000:00002b10</td><td>NULL</td><td>LOP_INSERT_ROWS</td><td>LCX_CLUSTERED</td><td></td><td>000000e7:00000070:0001</td><td>dbo.CommandLog.PK_CommandLog</td><td>0001:0000020e</td><td>3</td><td>NULL</td><td>NULL</td><td>3</td><td>HoBt 72057594043498496:ACQUIRE_LOCK_IX OBJECT: 1:279672044:0 ;ACQUIRE_LOCK_IX PAGE: 1:1:526 ;ACQUIRE_LOCK_X KEY: 1:72057594043498496 (a0c936a3c965)</td><td>NULL</td></tr>",
                            "<tr><td>000000e7:00000078:0002</td><td>0000:00002b11</td><td>NULL</td><td>LOP_MODIFY_COLUMNS</td><td>LCX_CLUSTERED</td><td></td><td>000000e7:00000078:0001</td><td>dbo.CommandLog.PK_CommandLog</td><td>0001:0000020e</td><td>3</td><td>NULL</td><td>NULL</td><td>3</td><td>HoBt 72057594043498496:ACQUIRE_LOCK_IX OBJECT: 1:279672044:0 ;ACQUIRE_LOCK_IX PAGE: 1:1:526 ;ACQUIRE_LOCK_X KEY: 1:72057594043498496 (a0c936a3c965)</td><td>NULL</td></tr>",
                            "<tr><td>000000e7:00000080:0002</td><td>0000:00002b12</td><td>NULL</td><td>LOP_INSERT_ROWS</td><td>LCX_CLUSTERED</td><td></td><td>000000e7:00000080:0001</td><td>dbo.CommandLog.PK_CommandLog</td><td>0001:0000020e</td><td>4</td><td>NULL</td><td>NULL</td><td>3</td><td>HoBt 72057594043498496:ACQUIRE_LOCK_IX OBJECT: 1:279672044:0 ;ACQUIRE_LOCK_IX PAGE: 1:1:526 ;ACQUIRE_LOCK_X KEY: 1:72057594043498496 (59855d342c69)</td><td>NULL</td></tr>",
                            "<tr><td>000000e7:00000098:0003</td><td>0000:00002b15</td><td>NULL</td><td>LOP_MODIFY_COLUMNS</td><td>LCX_CLUSTERED</td><td></td><td>000000e7:00000098:0002</td><td>dbo.CommandLog.PK_CommandLog</td><td>0001:0000020e</td><td>4</td><td>NULL</td><td>NULL</td><td>3</td><td>HoBt 72057594043498496:ACQUIRE_LOCK_IX OBJECT: 1:279672044:0 ;ACQUIRE_LOCK_IX PAGE: 1:1:526 ;ACQUIRE_LOCK_X KEY: 1:72057594043498496 (59855d342c69)</td><td>NULL</td></tr>",
                            "<tr><td>000000e7:000000a0:0002</td><td>0000:00002b16</td><td>NULL</td><td>LOP_INSERT_ROWS</td><td>LCX_CLUSTERED</td><td></td><td>000000e7:000000a0:0001</td><td>dbo.CommandLog.PK_CommandLog</td><td>0001:0000020e</td><td>5</td><td>NULL</td><td>NULL</td><td>3</td><td>HoBt 72057594043498496:ACQUIRE_LOCK_IX OBJECT: 1:279672044:0 ;ACQUIRE_LOCK_IX PAGE: 1:1:526 ;ACQUIRE_LOCK_X KEY: 1:72057594043498496 (b9b173bbe8d5)</td><td>NULL</td></tr>",
                            "<tr><td>000000e7:000000a8:0002</td><td>0000:00002b17</td><td>NULL</td><td>LOP_MODIFY_COLUMNS</td><td>LCX_CLUSTERED</td><td></td><td>000000e7:000000a8:0001</td><td>dbo.CommandLog.PK_CommandLog</td><td>0001:0000020e</td><td>5</td><td>NULL</td><td>NULL</td><td>3</td><td>HoBt 72057594043498496:ACQUIRE_LOCK_IX OBJECT: 1:279672044:0 ;ACQUIRE_LOCK_IX PAGE: 1:1:526 ;ACQUIRE_LOCK_X KEY: 1:72057594043498496 (b9b173bbe8d5)</td><td>NULL</td></tr>",
                            "</table>"
                        ]
                    }
                }
            ],
            "execution_count": 3
        }
    ]
}